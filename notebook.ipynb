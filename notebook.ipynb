{
 "cells": [
  {
   "cell_type": "code",
   "execution_count": 2,
   "id": "a09c1f3a",
   "metadata": {},
   "outputs": [],
   "source": [
    "import pandas as pd"
   ]
  },
  {
   "cell_type": "code",
   "execution_count": 4,
   "id": "25f04e88",
   "metadata": {},
   "outputs": [],
   "source": [
    "df = pd.read_csv(\"customer_churn_data.csv\")"
   ]
  },
  {
   "cell_type": "code",
   "execution_count": 11,
   "id": "7127d3c9",
   "metadata": {},
   "outputs": [
    {
     "data": {
      "text/html": [
       "<div>\n",
       "<style scoped>\n",
       "    .dataframe tbody tr th:only-of-type {\n",
       "        vertical-align: middle;\n",
       "    }\n",
       "\n",
       "    .dataframe tbody tr th {\n",
       "        vertical-align: top;\n",
       "    }\n",
       "\n",
       "    .dataframe thead th {\n",
       "        text-align: right;\n",
       "    }\n",
       "</style>\n",
       "<table border=\"1\" class=\"dataframe\">\n",
       "  <thead>\n",
       "    <tr style=\"text-align: right;\">\n",
       "      <th></th>\n",
       "      <th>CustomerID</th>\n",
       "      <th>Age</th>\n",
       "      <th>Gender</th>\n",
       "      <th>Tenure</th>\n",
       "      <th>MonthlyCharges</th>\n",
       "      <th>ContractType</th>\n",
       "      <th>InternetService</th>\n",
       "      <th>TotalCharges</th>\n",
       "      <th>TechSupport</th>\n",
       "      <th>Churn</th>\n",
       "    </tr>\n",
       "  </thead>\n",
       "  <tbody>\n",
       "    <tr>\n",
       "      <th>0</th>\n",
       "      <td>1</td>\n",
       "      <td>49</td>\n",
       "      <td>Male</td>\n",
       "      <td>4</td>\n",
       "      <td>88.35</td>\n",
       "      <td>Month-to-Month</td>\n",
       "      <td>Fiber Optic</td>\n",
       "      <td>353.4</td>\n",
       "      <td>Yes</td>\n",
       "      <td>Yes</td>\n",
       "    </tr>\n",
       "    <tr>\n",
       "      <th>1</th>\n",
       "      <td>2</td>\n",
       "      <td>43</td>\n",
       "      <td>Male</td>\n",
       "      <td>0</td>\n",
       "      <td>36.67</td>\n",
       "      <td>Month-to-Month</td>\n",
       "      <td>Fiber Optic</td>\n",
       "      <td>0.0</td>\n",
       "      <td>Yes</td>\n",
       "      <td>Yes</td>\n",
       "    </tr>\n",
       "  </tbody>\n",
       "</table>\n",
       "</div>"
      ],
      "text/plain": [
       "   CustomerID  Age Gender  Tenure  MonthlyCharges    ContractType  \\\n",
       "0           1   49   Male       4           88.35  Month-to-Month   \n",
       "1           2   43   Male       0           36.67  Month-to-Month   \n",
       "\n",
       "  InternetService  TotalCharges TechSupport Churn  \n",
       "0     Fiber Optic         353.4         Yes   Yes  \n",
       "1     Fiber Optic           0.0         Yes   Yes  "
      ]
     },
     "execution_count": 11,
     "metadata": {},
     "output_type": "execute_result"
    }
   ],
   "source": [
    "df.head(2)"
   ]
  },
  {
   "cell_type": "code",
   "execution_count": 12,
   "id": "21ed02a9",
   "metadata": {},
   "outputs": [
    {
     "data": {
      "text/html": [
       "<div>\n",
       "<style scoped>\n",
       "    .dataframe tbody tr th:only-of-type {\n",
       "        vertical-align: middle;\n",
       "    }\n",
       "\n",
       "    .dataframe tbody tr th {\n",
       "        vertical-align: top;\n",
       "    }\n",
       "\n",
       "    .dataframe thead th {\n",
       "        text-align: right;\n",
       "    }\n",
       "</style>\n",
       "<table border=\"1\" class=\"dataframe\">\n",
       "  <thead>\n",
       "    <tr style=\"text-align: right;\">\n",
       "      <th></th>\n",
       "      <th>CustomerID</th>\n",
       "      <th>Age</th>\n",
       "      <th>Gender</th>\n",
       "      <th>Tenure</th>\n",
       "      <th>MonthlyCharges</th>\n",
       "      <th>ContractType</th>\n",
       "      <th>InternetService</th>\n",
       "      <th>TotalCharges</th>\n",
       "      <th>TechSupport</th>\n",
       "      <th>Churn</th>\n",
       "    </tr>\n",
       "  </thead>\n",
       "  <tbody>\n",
       "    <tr>\n",
       "      <th>997</th>\n",
       "      <td>998</td>\n",
       "      <td>51</td>\n",
       "      <td>Female</td>\n",
       "      <td>15</td>\n",
       "      <td>111.72</td>\n",
       "      <td>Month-to-Month</td>\n",
       "      <td>Fiber Optic</td>\n",
       "      <td>1675.80</td>\n",
       "      <td>Yes</td>\n",
       "      <td>Yes</td>\n",
       "    </tr>\n",
       "    <tr>\n",
       "      <th>998</th>\n",
       "      <td>999</td>\n",
       "      <td>39</td>\n",
       "      <td>Male</td>\n",
       "      <td>68</td>\n",
       "      <td>65.67</td>\n",
       "      <td>One-Year</td>\n",
       "      <td>NaN</td>\n",
       "      <td>4465.56</td>\n",
       "      <td>No</td>\n",
       "      <td>Yes</td>\n",
       "    </tr>\n",
       "    <tr>\n",
       "      <th>999</th>\n",
       "      <td>1000</td>\n",
       "      <td>50</td>\n",
       "      <td>Male</td>\n",
       "      <td>1</td>\n",
       "      <td>56.67</td>\n",
       "      <td>Month-to-Month</td>\n",
       "      <td>NaN</td>\n",
       "      <td>56.67</td>\n",
       "      <td>No</td>\n",
       "      <td>Yes</td>\n",
       "    </tr>\n",
       "  </tbody>\n",
       "</table>\n",
       "</div>"
      ],
      "text/plain": [
       "     CustomerID  Age  Gender  Tenure  MonthlyCharges    ContractType  \\\n",
       "997         998   51  Female      15          111.72  Month-to-Month   \n",
       "998         999   39    Male      68           65.67        One-Year   \n",
       "999        1000   50    Male       1           56.67  Month-to-Month   \n",
       "\n",
       "    InternetService  TotalCharges TechSupport Churn  \n",
       "997     Fiber Optic       1675.80         Yes   Yes  \n",
       "998             NaN       4465.56          No   Yes  \n",
       "999             NaN         56.67          No   Yes  "
      ]
     },
     "execution_count": 12,
     "metadata": {},
     "output_type": "execute_result"
    }
   ],
   "source": [
    "df.tail(3)"
   ]
  },
  {
   "cell_type": "code",
   "execution_count": 13,
   "id": "b958cf4b",
   "metadata": {},
   "outputs": [
    {
     "data": {
      "text/plain": [
       "<bound method DataFrame.info of      CustomerID  Age  Gender  Tenure  MonthlyCharges    ContractType  \\\n",
       "0             1   49    Male       4           88.35  Month-to-Month   \n",
       "1             2   43    Male       0           36.67  Month-to-Month   \n",
       "2             3   51  Female       2           63.79  Month-to-Month   \n",
       "3             4   60  Female       8          102.34        One-Year   \n",
       "4             5   42    Male      32           69.01  Month-to-Month   \n",
       "..          ...  ...     ...     ...             ...             ...   \n",
       "995         996   42    Male      41           37.14  Month-to-Month   \n",
       "996         997   62    Male       9           80.93  Month-to-Month   \n",
       "997         998   51  Female      15          111.72  Month-to-Month   \n",
       "998         999   39    Male      68           65.67        One-Year   \n",
       "999        1000   50    Male       1           56.67  Month-to-Month   \n",
       "\n",
       "    InternetService  TotalCharges TechSupport Churn  \n",
       "0       Fiber Optic        353.40         Yes   Yes  \n",
       "1       Fiber Optic          0.00         Yes   Yes  \n",
       "2       Fiber Optic        127.58          No   Yes  \n",
       "3               DSL        818.72         Yes   Yes  \n",
       "4               NaN       2208.32          No   Yes  \n",
       "..              ...           ...         ...   ...  \n",
       "995     Fiber Optic       1522.74         Yes   Yes  \n",
       "996             NaN        728.37          No   Yes  \n",
       "997     Fiber Optic       1675.80         Yes   Yes  \n",
       "998             NaN       4465.56          No   Yes  \n",
       "999             NaN         56.67          No   Yes  \n",
       "\n",
       "[1000 rows x 10 columns]>"
      ]
     },
     "execution_count": 13,
     "metadata": {},
     "output_type": "execute_result"
    }
   ],
   "source": [
    "df.info"
   ]
  },
  {
   "cell_type": "code",
   "execution_count": null,
   "id": "023b71b1",
   "metadata": {},
   "outputs": [
    {
     "data": {
      "text/plain": [
       "CustomerID         0\n",
       "Age                0\n",
       "Gender             0\n",
       "Tenure             0\n",
       "MonthlyCharges     0\n",
       "ContractType       0\n",
       "InternetService    0\n",
       "TotalCharges       0\n",
       "TechSupport        0\n",
       "Churn              0\n",
       "dtype: int64"
      ]
     },
     "execution_count": 23,
     "metadata": {},
     "output_type": "execute_result"
    }
   ],
   "source": [
    "df.isna().sum()"
   ]
  },
  {
   "cell_type": "code",
   "execution_count": null,
   "id": "a302d2a9",
   "metadata": {},
   "outputs": [],
   "source": []
  },
  {
   "cell_type": "code",
   "execution_count": 22,
   "id": "a4959710",
   "metadata": {},
   "outputs": [],
   "source": [
    "df[\"InternetService\"] = df[\"InternetService\"].fillna(\"\")"
   ]
  }
 ],
 "metadata": {
  "kernelspec": {
   "display_name": "Python 3",
   "language": "python",
   "name": "python3"
  },
  "language_info": {
   "codemirror_mode": {
    "name": "ipython",
    "version": 3
   },
   "file_extension": ".py",
   "mimetype": "text/x-python",
   "name": "python",
   "nbconvert_exporter": "python",
   "pygments_lexer": "ipython3",
   "version": "3.11.9"
  }
 },
 "nbformat": 4,
 "nbformat_minor": 5
}
